{
 "cells": [
  {
   "cell_type": "code",
   "execution_count": 11,
   "metadata": {},
   "outputs": [],
   "source": [
    "import spacy\n",
    "import pandas as pd"
   ]
  },
  {
   "cell_type": "code",
   "execution_count": 12,
   "metadata": {},
   "outputs": [],
   "source": [
    "nlp = spacy.load(\"en_core_web_sm\")\n"
   ]
  },
  {
   "cell_type": "code",
   "execution_count": 13,
   "metadata": {},
   "outputs": [],
   "source": [
    "def generate_ngrams(text, n_range=(3, 6)):\n",
    "    ngrams = []\n",
    "    length = len(text)\n",
    "    for n in range(n_range[0], min(n_range[1]+1, length+1)):\n",
    "        ngrams.extend([text[i:i+n] for i in range(length-n+1)])\n",
    "    return ngrams\n",
    "\n",
    "def contains_person_name_from_ngrams(ngrams):\n",
    "    for token in ngrams:\n",
    "        doc = nlp(token)\n",
    "        for ent in doc.ents:\n",
    "            if ent.label_ == 'PERSON':\n",
    "                return 1 \n",
    "    return 0"
   ]
  },
  {
   "cell_type": "code",
   "execution_count": 14,
   "metadata": {},
   "outputs": [],
   "source": [
    "def extract_features(email):\n",
    "    username = email.split('@')[0]\n",
    "    length_of_username = len(username)\n",
    "    num_special_chars = sum(not char.isalnum() for char in username)\n",
    "    ngrams = generate_ngrams(username)\n",
    "    has_person_name_ngram = contains_person_name_from_ngrams(ngrams)\n",
    "    return length_of_username, num_special_chars, has_person_name_ngram"
   ]
  },
  {
   "cell_type": "code",
   "execution_count": 15,
   "metadata": {},
   "outputs": [],
   "source": [
    "def label_user(length_of_username, num_special_chars, has_person_name_ngram):\n",
    "    if has_person_name_ngram != 1:\n",
    "        return 0\n",
    "    if length_of_username > 10 and num_special_chars > 2:\n",
    "        return 0\n",
    "    return 1"
   ]
  },
  {
   "cell_type": "code",
   "execution_count": 16,
   "metadata": {},
   "outputs": [],
   "source": [
    "input_csv_file = 'testing.csv'\n",
    "output_csv_file = 'email_features_labeled.csv'"
   ]
  },
  {
   "cell_type": "code",
   "execution_count": 17,
   "metadata": {},
   "outputs": [],
   "source": [
    "df = pd.read_csv(input_csv_file)"
   ]
  },
  {
   "cell_type": "code",
   "execution_count": 18,
   "metadata": {},
   "outputs": [],
   "source": [
    "data = []\n",
    "for email in df['user_ids']:\n",
    "    length_of_username, num_special_chars, has_person_name_ngram = extract_features(email)\n",
    "    label = label_user(length_of_username, num_special_chars, has_person_name_ngram)\n",
    "    data.append([email, length_of_username, num_special_chars, has_person_name_ngram, label])"
   ]
  },
  {
   "cell_type": "code",
   "execution_count": 10,
   "metadata": {},
   "outputs": [
    {
     "name": "stdout",
     "output_type": "stream",
     "text": [
      "                               email  length_of_username  num_special_chars  \\\n",
      "0  bohdan.ravlyk.mbdpts.2023@lpnu.ua                  25                  3   \n",
      "1                 axel@nystruktur.no                   4                  0   \n",
      "2        raymond@sttinternational.nl                   7                  0   \n",
      "\n",
      "   has_person_name_ngram  label  \n",
      "0                      1      1  \n",
      "1                      0      1  \n",
      "2                      1      1  \n"
     ]
    }
   ],
   "source": [
    "labeled_df = pd.DataFrame(data, columns=['email', 'length_of_username', 'num_special_chars', 'has_person_name_ngram', 'label'])\n",
    "\n",
    "print(labeled_df)\n",
    "\n",
    "labeled_df.to_csv(output_csv_file, index=False)"
   ]
  },
  {
   "cell_type": "code",
   "execution_count": null,
   "metadata": {},
   "outputs": [],
   "source": []
  },
  {
   "cell_type": "code",
   "execution_count": null,
   "metadata": {},
   "outputs": [],
   "source": []
  },
  {
   "cell_type": "code",
   "execution_count": null,
   "metadata": {},
   "outputs": [],
   "source": []
  }
 ],
 "metadata": {
  "kernelspec": {
   "display_name": "menv",
   "language": "python",
   "name": "python3"
  },
  "language_info": {
   "codemirror_mode": {
    "name": "ipython",
    "version": 3
   },
   "file_extension": ".py",
   "mimetype": "text/x-python",
   "name": "python",
   "nbconvert_exporter": "python",
   "pygments_lexer": "ipython3",
   "version": "3.12.6"
  }
 },
 "nbformat": 4,
 "nbformat_minor": 2
}
